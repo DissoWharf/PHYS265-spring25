{
 "cells": [
  {
   "cell_type": "code",
   "execution_count": null,
   "id": "e7c7d453-527e-48de-b0ff-767b126afbd6",
   "metadata": {},
   "outputs": [],
   "source": [
    "import numpy as np\n",
    "import matplotlib.pyplot as plt\n",
    "def phi(M,xm,ym):\n",
    "    G = (6.67*10**-11) # m^3/kg/s^2\n",
    "    return -(G*M)/(np.sqrt((xm**2+ym**2)\n"
   ]
  }
 ],
 "metadata": {
  "kernelspec": {
   "display_name": "Python 3 (ipykernel)",
   "language": "python",
   "name": "python3"
  },
  "language_info": {
   "codemirror_mode": {
    "name": "ipython",
    "version": 3
   },
   "file_extension": ".py",
   "mimetype": "text/x-python",
   "name": "python",
   "nbconvert_exporter": "python",
   "pygments_lexer": "ipython3",
   "version": "3.12.5"
  }
 },
 "nbformat": 4,
 "nbformat_minor": 5
}
